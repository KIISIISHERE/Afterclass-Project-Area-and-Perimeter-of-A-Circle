{
  "nbformat": 4,
  "nbformat_minor": 0,
  "metadata": {
    "colab": {
      "provenance": [],
      "authorship_tag": "ABX9TyPMiHEJFH8ZNrsoDxmrmJOH",
      "include_colab_link": true
    },
    "kernelspec": {
      "name": "python3",
      "display_name": "Python 3"
    },
    "language_info": {
      "name": "python"
    }
  },
  "cells": [
    {
      "cell_type": "markdown",
      "metadata": {
        "id": "view-in-github",
        "colab_type": "text"
      },
      "source": [
        "<a href=\"https://colab.research.google.com/github/KIISIISHERE/Afterclass-Project-Area-and-Perimeter-of-A-Circle/blob/main/Perimeter%26Area.ipynb\" target=\"_parent\"><img src=\"https://colab.research.google.com/assets/colab-badge.svg\" alt=\"Open In Colab\"/></a>"
      ]
    },
    {
      "cell_type": "code",
      "source": [
        "import math\n",
        "\n",
        "class Circle:\n",
        "    def __init__(self, radius):\n",
        "        self.radius = radius\n",
        "\n",
        "    def area(self):\n",
        "        return math.pi * (self.radius ** 2)\n",
        "\n",
        "    def perimeter(self):\n",
        "        return 2 * math.pi * self.radius\n",
        "\n",
        "# Example usage:\n",
        "radius_value = float(input(\"Enter the radius of the circle: \"))\n",
        "my_circle = Circle(radius_value)\n",
        "\n",
        "print(f\"Area of the circle: {my_circle.area():.2f}\")\n",
        "print(f\"Perimeter of the circle: {my_circle.perimeter():.2f}\")\n"
      ],
      "metadata": {
        "colab": {
          "base_uri": "https://localhost:8080/"
        },
        "id": "owm6cE9sG1YA",
        "outputId": "43d65db0-ce12-41de-9a3a-815ab31dadea"
      },
      "execution_count": 1,
      "outputs": [
        {
          "output_type": "stream",
          "name": "stdout",
          "text": [
            "Enter the radius of the circle: 21\n",
            "Area of the circle: 1385.44\n",
            "Perimeter of the circle: 131.95\n"
          ]
        }
      ]
    }
  ]
}